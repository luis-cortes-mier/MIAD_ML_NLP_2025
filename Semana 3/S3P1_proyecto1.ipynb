{
 "cells": [
  {
   "cell_type": "markdown",
   "metadata": {
    "id": "l0F200N-wqO3"
   },
   "source": [
    "![image info](https://raw.githubusercontent.com/davidzarruk/MIAD_ML_NLP_2023/main/images/banner_1.png)"
   ]
  },
  {
   "cell_type": "markdown",
   "metadata": {
    "id": "w75FGynzwqO3"
   },
   "source": [
    "# Proyecto 1 - Predicción de popularidad en canción\n",
    "\n",
    "En este proyecto podrán poner en práctica sus conocimientos sobre modelos predictivos basados en árboles y ensambles, y sobre la disponibilización de modelos. Para su desarrollo tengan en cuenta las instrucciones dadas en la \"Guía del proyecto 1: Predicción de popularidad en canción\".\n",
    "\n",
    "**Entrega**: La entrega del proyecto deberán realizarla durante la semana 4. Sin embargo, es importante que avancen en la semana 3 en el modelado del problema y en parte del informe, tal y como se les indicó en la guía.\n",
    "\n",
    "Para hacer la entrega, deberán adjuntar el informe autocontenido en PDF a la actividad de entrega del proyecto que encontrarán en la semana 4, y subir el archivo de predicciones a la [competencia de Kaggle](https://www.kaggle.com/competitions/miad-2025-12-prediccion-popularidad-en-cancion)."
   ]
  },
  {
   "cell_type": "markdown",
   "metadata": {
    "id": "aiB84TdJwqO4"
   },
   "source": [
    "## Datos para la predicción de popularidad en cancion\n",
    "\n",
    "En este proyecto se usará el conjunto de datos de datos de popularidad en canciones, donde cada observación representa una canción y se tienen variables como: duración de la canción, acusticidad y tempo, entre otras. El objetivo es predecir qué tan popular es la canción. Para más detalles puede visitar el siguiente enlace: [datos](https://huggingface.co/datasets/maharshipandya/spotify-tracks-dataset)."
   ]
  },
  {
   "cell_type": "markdown",
   "metadata": {
    "id": "LuzQAykBwqO4"
   },
   "source": [
    "## Ejemplo predicción conjunto de test para envío a Kaggle\n",
    "\n",
    "En esta sección encontrarán el formato en el que deben guardar los resultados de la predicción para que puedan subirlos a la competencia en Kaggle."
   ]
  },
  {
   "cell_type": "code",
   "execution_count": 1,
   "metadata": {
    "executionInfo": {
     "elapsed": 7,
     "status": "ok",
     "timestamp": 1744039049283,
     "user": {
      "displayName": "Ana Maria Quintero",
      "userId": "04369708050989259997"
     },
     "user_tz": 300
    },
    "id": "5WHlajVlwqO4"
   },
   "outputs": [],
   "source": [
    "import warnings\n",
    "warnings.filterwarnings('ignore')"
   ]
  },
  {
   "cell_type": "code",
   "execution_count": 3,
   "metadata": {
    "executionInfo": {
     "elapsed": 951,
     "status": "ok",
     "timestamp": 1744039050240,
     "user": {
      "displayName": "Ana Maria Quintero",
      "userId": "04369708050989259997"
     },
     "user_tz": 300
    },
    "id": "6wjRyxQWwqO5"
   },
   "outputs": [],
   "source": [
    "# Importación librerías\n",
    "import pandas as pd\n",
    "import numpy as np"
   ]
  },
  {
   "cell_type": "code",
   "execution_count": 5,
   "metadata": {
    "executionInfo": {
     "elapsed": 1454,
     "status": "ok",
     "timestamp": 1744039599021,
     "user": {
      "displayName": "Ana Maria Quintero",
      "userId": "04369708050989259997"
     },
     "user_tz": 300
    },
    "id": "POuKslmYwqO5"
   },
   "outputs": [],
   "source": [
    "# Carga de datos de archivo .csv\n",
    "dataTraining = pd.read_csv('https://raw.githubusercontent.com/davidzarruk/MIAD_ML_NLP_2025/main/datasets/dataTrain_Spotify.csv')\n",
    "dataTesting = pd.read_csv('https://raw.githubusercontent.com/davidzarruk/MIAD_ML_NLP_2025/main/datasets/dataTest_Spotify.csv', index_col=0)"
   ]
  },
  {
   "cell_type": "code",
   "execution_count": 7,
   "metadata": {
    "id": "oZm8t9NBwqO5"
   },
   "outputs": [
    {
     "data": {
      "text/html": [
       "<div>\n",
       "<style scoped>\n",
       "    .dataframe tbody tr th:only-of-type {\n",
       "        vertical-align: middle;\n",
       "    }\n",
       "\n",
       "    .dataframe tbody tr th {\n",
       "        vertical-align: top;\n",
       "    }\n",
       "\n",
       "    .dataframe thead th {\n",
       "        text-align: right;\n",
       "    }\n",
       "</style>\n",
       "<table border=\"1\" class=\"dataframe\">\n",
       "  <thead>\n",
       "    <tr style=\"text-align: right;\">\n",
       "      <th></th>\n",
       "      <th>Unnamed: 0</th>\n",
       "      <th>track_id</th>\n",
       "      <th>artists</th>\n",
       "      <th>album_name</th>\n",
       "      <th>track_name</th>\n",
       "      <th>duration_ms</th>\n",
       "      <th>explicit</th>\n",
       "      <th>danceability</th>\n",
       "      <th>energy</th>\n",
       "      <th>key</th>\n",
       "      <th>...</th>\n",
       "      <th>mode</th>\n",
       "      <th>speechiness</th>\n",
       "      <th>acousticness</th>\n",
       "      <th>instrumentalness</th>\n",
       "      <th>liveness</th>\n",
       "      <th>valence</th>\n",
       "      <th>tempo</th>\n",
       "      <th>time_signature</th>\n",
       "      <th>track_genre</th>\n",
       "      <th>popularity</th>\n",
       "    </tr>\n",
       "  </thead>\n",
       "  <tbody>\n",
       "    <tr>\n",
       "      <th>0</th>\n",
       "      <td>0</td>\n",
       "      <td>7hUhmkALyQ8SX9mJs5XI3D</td>\n",
       "      <td>Love and Rockets</td>\n",
       "      <td>Love and Rockets</td>\n",
       "      <td>Motorcycle</td>\n",
       "      <td>211533</td>\n",
       "      <td>False</td>\n",
       "      <td>0.305</td>\n",
       "      <td>0.8490</td>\n",
       "      <td>9</td>\n",
       "      <td>...</td>\n",
       "      <td>1</td>\n",
       "      <td>0.0549</td>\n",
       "      <td>0.000058</td>\n",
       "      <td>0.056700</td>\n",
       "      <td>0.4640</td>\n",
       "      <td>0.3200</td>\n",
       "      <td>141.793</td>\n",
       "      <td>4</td>\n",
       "      <td>goth</td>\n",
       "      <td>22</td>\n",
       "    </tr>\n",
       "    <tr>\n",
       "      <th>1</th>\n",
       "      <td>1</td>\n",
       "      <td>5x59U89ZnjZXuNAAlc8X1u</td>\n",
       "      <td>Filippa Giordano</td>\n",
       "      <td>Filippa Giordano</td>\n",
       "      <td>Addio del passato - From \"La traviata\"</td>\n",
       "      <td>196000</td>\n",
       "      <td>False</td>\n",
       "      <td>0.287</td>\n",
       "      <td>0.1900</td>\n",
       "      <td>7</td>\n",
       "      <td>...</td>\n",
       "      <td>0</td>\n",
       "      <td>0.0370</td>\n",
       "      <td>0.930000</td>\n",
       "      <td>0.000356</td>\n",
       "      <td>0.0834</td>\n",
       "      <td>0.1330</td>\n",
       "      <td>83.685</td>\n",
       "      <td>4</td>\n",
       "      <td>opera</td>\n",
       "      <td>22</td>\n",
       "    </tr>\n",
       "    <tr>\n",
       "      <th>2</th>\n",
       "      <td>2</td>\n",
       "      <td>70Vng5jLzoJLmeLu3ayBQq</td>\n",
       "      <td>Susumu Yokota</td>\n",
       "      <td>Symbol</td>\n",
       "      <td>Purple Rose Minuet</td>\n",
       "      <td>216506</td>\n",
       "      <td>False</td>\n",
       "      <td>0.583</td>\n",
       "      <td>0.5090</td>\n",
       "      <td>1</td>\n",
       "      <td>...</td>\n",
       "      <td>1</td>\n",
       "      <td>0.0362</td>\n",
       "      <td>0.777000</td>\n",
       "      <td>0.202000</td>\n",
       "      <td>0.1150</td>\n",
       "      <td>0.5440</td>\n",
       "      <td>90.459</td>\n",
       "      <td>3</td>\n",
       "      <td>idm</td>\n",
       "      <td>37</td>\n",
       "    </tr>\n",
       "    <tr>\n",
       "      <th>3</th>\n",
       "      <td>3</td>\n",
       "      <td>1cRfzLJapgtwJ61xszs37b</td>\n",
       "      <td>Franz Liszt;YUNDI</td>\n",
       "      <td>Relajación y siestas</td>\n",
       "      <td>Liebeslied (Widmung), S. 566</td>\n",
       "      <td>218346</td>\n",
       "      <td>False</td>\n",
       "      <td>0.163</td>\n",
       "      <td>0.0368</td>\n",
       "      <td>8</td>\n",
       "      <td>...</td>\n",
       "      <td>1</td>\n",
       "      <td>0.0472</td>\n",
       "      <td>0.991000</td>\n",
       "      <td>0.899000</td>\n",
       "      <td>0.1070</td>\n",
       "      <td>0.0387</td>\n",
       "      <td>69.442</td>\n",
       "      <td>3</td>\n",
       "      <td>classical</td>\n",
       "      <td>0</td>\n",
       "    </tr>\n",
       "    <tr>\n",
       "      <th>4</th>\n",
       "      <td>4</td>\n",
       "      <td>47d5lYjbiMy0EdMRV8lRou</td>\n",
       "      <td>Scooter</td>\n",
       "      <td>Scooter Forever</td>\n",
       "      <td>The Darkside</td>\n",
       "      <td>173160</td>\n",
       "      <td>False</td>\n",
       "      <td>0.647</td>\n",
       "      <td>0.9210</td>\n",
       "      <td>2</td>\n",
       "      <td>...</td>\n",
       "      <td>1</td>\n",
       "      <td>0.1850</td>\n",
       "      <td>0.000939</td>\n",
       "      <td>0.371000</td>\n",
       "      <td>0.1310</td>\n",
       "      <td>0.1710</td>\n",
       "      <td>137.981</td>\n",
       "      <td>4</td>\n",
       "      <td>techno</td>\n",
       "      <td>27</td>\n",
       "    </tr>\n",
       "  </tbody>\n",
       "</table>\n",
       "<p>5 rows × 21 columns</p>\n",
       "</div>"
      ],
      "text/plain": [
       "   Unnamed: 0                track_id            artists  \\\n",
       "0           0  7hUhmkALyQ8SX9mJs5XI3D   Love and Rockets   \n",
       "1           1  5x59U89ZnjZXuNAAlc8X1u   Filippa Giordano   \n",
       "2           2  70Vng5jLzoJLmeLu3ayBQq      Susumu Yokota   \n",
       "3           3  1cRfzLJapgtwJ61xszs37b  Franz Liszt;YUNDI   \n",
       "4           4  47d5lYjbiMy0EdMRV8lRou            Scooter   \n",
       "\n",
       "             album_name                              track_name  duration_ms  \\\n",
       "0      Love and Rockets                              Motorcycle       211533   \n",
       "1      Filippa Giordano  Addio del passato - From \"La traviata\"       196000   \n",
       "2                Symbol                      Purple Rose Minuet       216506   \n",
       "3  Relajación y siestas            Liebeslied (Widmung), S. 566       218346   \n",
       "4       Scooter Forever                            The Darkside       173160   \n",
       "\n",
       "   explicit  danceability  energy  key  ...  mode  speechiness  acousticness  \\\n",
       "0     False         0.305  0.8490    9  ...     1       0.0549      0.000058   \n",
       "1     False         0.287  0.1900    7  ...     0       0.0370      0.930000   \n",
       "2     False         0.583  0.5090    1  ...     1       0.0362      0.777000   \n",
       "3     False         0.163  0.0368    8  ...     1       0.0472      0.991000   \n",
       "4     False         0.647  0.9210    2  ...     1       0.1850      0.000939   \n",
       "\n",
       "   instrumentalness  liveness  valence    tempo  time_signature  track_genre  \\\n",
       "0          0.056700    0.4640   0.3200  141.793               4         goth   \n",
       "1          0.000356    0.0834   0.1330   83.685               4        opera   \n",
       "2          0.202000    0.1150   0.5440   90.459               3          idm   \n",
       "3          0.899000    0.1070   0.0387   69.442               3    classical   \n",
       "4          0.371000    0.1310   0.1710  137.981               4       techno   \n",
       "\n",
       "  popularity  \n",
       "0         22  \n",
       "1         22  \n",
       "2         37  \n",
       "3          0  \n",
       "4         27  \n",
       "\n",
       "[5 rows x 21 columns]"
      ]
     },
     "execution_count": 7,
     "metadata": {},
     "output_type": "execute_result"
    }
   ],
   "source": [
    "# Visualización datos de entrenamiento\n",
    "dataTraining.head()"
   ]
  },
  {
   "cell_type": "code",
   "execution_count": 9,
   "metadata": {
    "id": "vbrTQFErwqO5"
   },
   "outputs": [
    {
     "data": {
      "text/html": [
       "<div>\n",
       "<style scoped>\n",
       "    .dataframe tbody tr th:only-of-type {\n",
       "        vertical-align: middle;\n",
       "    }\n",
       "\n",
       "    .dataframe tbody tr th {\n",
       "        vertical-align: top;\n",
       "    }\n",
       "\n",
       "    .dataframe thead th {\n",
       "        text-align: right;\n",
       "    }\n",
       "</style>\n",
       "<table border=\"1\" class=\"dataframe\">\n",
       "  <thead>\n",
       "    <tr style=\"text-align: right;\">\n",
       "      <th></th>\n",
       "      <th>track_id</th>\n",
       "      <th>artists</th>\n",
       "      <th>album_name</th>\n",
       "      <th>track_name</th>\n",
       "      <th>duration_ms</th>\n",
       "      <th>explicit</th>\n",
       "      <th>danceability</th>\n",
       "      <th>energy</th>\n",
       "      <th>key</th>\n",
       "      <th>loudness</th>\n",
       "      <th>mode</th>\n",
       "      <th>speechiness</th>\n",
       "      <th>acousticness</th>\n",
       "      <th>instrumentalness</th>\n",
       "      <th>liveness</th>\n",
       "      <th>valence</th>\n",
       "      <th>tempo</th>\n",
       "      <th>time_signature</th>\n",
       "      <th>track_genre</th>\n",
       "    </tr>\n",
       "  </thead>\n",
       "  <tbody>\n",
       "    <tr>\n",
       "      <th>0</th>\n",
       "      <td>6KwkVtXm8OUp2XffN5k7lY</td>\n",
       "      <td>Hillsong Worship</td>\n",
       "      <td>No Other Name</td>\n",
       "      <td>No Other Name</td>\n",
       "      <td>440247</td>\n",
       "      <td>False</td>\n",
       "      <td>0.369</td>\n",
       "      <td>0.598</td>\n",
       "      <td>7</td>\n",
       "      <td>-6.984</td>\n",
       "      <td>1</td>\n",
       "      <td>0.0304</td>\n",
       "      <td>0.00511</td>\n",
       "      <td>0.000000</td>\n",
       "      <td>0.176</td>\n",
       "      <td>0.0466</td>\n",
       "      <td>148.014</td>\n",
       "      <td>4</td>\n",
       "      <td>world-music</td>\n",
       "    </tr>\n",
       "    <tr>\n",
       "      <th>1</th>\n",
       "      <td>2dp5I5MJ8bQQHDoFaNRFtX</td>\n",
       "      <td>Internal Rot</td>\n",
       "      <td>Grieving Birth</td>\n",
       "      <td>Failed Organum</td>\n",
       "      <td>93933</td>\n",
       "      <td>False</td>\n",
       "      <td>0.171</td>\n",
       "      <td>0.997</td>\n",
       "      <td>7</td>\n",
       "      <td>-3.586</td>\n",
       "      <td>1</td>\n",
       "      <td>0.1180</td>\n",
       "      <td>0.00521</td>\n",
       "      <td>0.801000</td>\n",
       "      <td>0.420</td>\n",
       "      <td>0.0294</td>\n",
       "      <td>122.223</td>\n",
       "      <td>4</td>\n",
       "      <td>grindcore</td>\n",
       "    </tr>\n",
       "    <tr>\n",
       "      <th>2</th>\n",
       "      <td>5avw06usmFkFrPjX8NxC40</td>\n",
       "      <td>Zhoobin Askarieh;Ali Sasha</td>\n",
       "      <td>Noise A Noise 20.4-1</td>\n",
       "      <td>Save the Trees, Pt. 1</td>\n",
       "      <td>213578</td>\n",
       "      <td>False</td>\n",
       "      <td>0.173</td>\n",
       "      <td>0.803</td>\n",
       "      <td>9</td>\n",
       "      <td>-10.071</td>\n",
       "      <td>0</td>\n",
       "      <td>0.1440</td>\n",
       "      <td>0.61300</td>\n",
       "      <td>0.001910</td>\n",
       "      <td>0.195</td>\n",
       "      <td>0.0887</td>\n",
       "      <td>75.564</td>\n",
       "      <td>3</td>\n",
       "      <td>iranian</td>\n",
       "    </tr>\n",
       "    <tr>\n",
       "      <th>3</th>\n",
       "      <td>75hT0hvlESnDJstem0JgyR</td>\n",
       "      <td>Bryan Adams</td>\n",
       "      <td>All I Want For Christmas Is You</td>\n",
       "      <td>Merry Christmas</td>\n",
       "      <td>151387</td>\n",
       "      <td>False</td>\n",
       "      <td>0.683</td>\n",
       "      <td>0.511</td>\n",
       "      <td>6</td>\n",
       "      <td>-5.598</td>\n",
       "      <td>1</td>\n",
       "      <td>0.0279</td>\n",
       "      <td>0.40600</td>\n",
       "      <td>0.000197</td>\n",
       "      <td>0.111</td>\n",
       "      <td>0.5980</td>\n",
       "      <td>109.991</td>\n",
       "      <td>3</td>\n",
       "      <td>rock</td>\n",
       "    </tr>\n",
       "    <tr>\n",
       "      <th>4</th>\n",
       "      <td>4bY2oZGA5Br3pTE1Jd1IfY</td>\n",
       "      <td>Nogizaka46</td>\n",
       "      <td>バレッタ TypeD</td>\n",
       "      <td>月の大きさ</td>\n",
       "      <td>236293</td>\n",
       "      <td>False</td>\n",
       "      <td>0.555</td>\n",
       "      <td>0.941</td>\n",
       "      <td>9</td>\n",
       "      <td>-3.294</td>\n",
       "      <td>0</td>\n",
       "      <td>0.0481</td>\n",
       "      <td>0.48400</td>\n",
       "      <td>0.000000</td>\n",
       "      <td>0.266</td>\n",
       "      <td>0.8130</td>\n",
       "      <td>92.487</td>\n",
       "      <td>4</td>\n",
       "      <td>j-idol</td>\n",
       "    </tr>\n",
       "  </tbody>\n",
       "</table>\n",
       "</div>"
      ],
      "text/plain": [
       "                 track_id                     artists  \\\n",
       "0  6KwkVtXm8OUp2XffN5k7lY            Hillsong Worship   \n",
       "1  2dp5I5MJ8bQQHDoFaNRFtX                Internal Rot   \n",
       "2  5avw06usmFkFrPjX8NxC40  Zhoobin Askarieh;Ali Sasha   \n",
       "3  75hT0hvlESnDJstem0JgyR                 Bryan Adams   \n",
       "4  4bY2oZGA5Br3pTE1Jd1IfY                  Nogizaka46   \n",
       "\n",
       "                        album_name             track_name  duration_ms  \\\n",
       "0                    No Other Name          No Other Name       440247   \n",
       "1                   Grieving Birth         Failed Organum        93933   \n",
       "2             Noise A Noise 20.4-1  Save the Trees, Pt. 1       213578   \n",
       "3  All I Want For Christmas Is You        Merry Christmas       151387   \n",
       "4                       バレッタ TypeD                  月の大きさ       236293   \n",
       "\n",
       "   explicit  danceability  energy  key  loudness  mode  speechiness  \\\n",
       "0     False         0.369   0.598    7    -6.984     1       0.0304   \n",
       "1     False         0.171   0.997    7    -3.586     1       0.1180   \n",
       "2     False         0.173   0.803    9   -10.071     0       0.1440   \n",
       "3     False         0.683   0.511    6    -5.598     1       0.0279   \n",
       "4     False         0.555   0.941    9    -3.294     0       0.0481   \n",
       "\n",
       "   acousticness  instrumentalness  liveness  valence    tempo  time_signature  \\\n",
       "0       0.00511          0.000000     0.176   0.0466  148.014               4   \n",
       "1       0.00521          0.801000     0.420   0.0294  122.223               4   \n",
       "2       0.61300          0.001910     0.195   0.0887   75.564               3   \n",
       "3       0.40600          0.000197     0.111   0.5980  109.991               3   \n",
       "4       0.48400          0.000000     0.266   0.8130   92.487               4   \n",
       "\n",
       "   track_genre  \n",
       "0  world-music  \n",
       "1    grindcore  \n",
       "2      iranian  \n",
       "3         rock  \n",
       "4       j-idol  "
      ]
     },
     "execution_count": 9,
     "metadata": {},
     "output_type": "execute_result"
    }
   ],
   "source": [
    "# Visualización datos de test\n",
    "dataTesting.head()"
   ]
  },
  {
   "cell_type": "code",
   "execution_count": 7,
   "metadata": {
    "executionInfo": {
     "elapsed": 2,
     "status": "ok",
     "timestamp": 1744044980160,
     "user": {
      "displayName": "Ana Maria Quintero",
      "userId": "04369708050989259997"
     },
     "user_tz": 300
    },
    "id": "5ly6bRwFwqO5"
   },
   "outputs": [],
   "source": [
    "# Predicción del conjunto de test - acá se genera un número aleatorio como ejemplo\n",
    "np.random.seed(42)\n",
    "y_pred = pd.DataFrame(np.random.rand(dataTesting.shape[0]) * 100, index=dataTesting.index, columns=['Popularity'])"
   ]
  },
  {
   "cell_type": "code",
   "execution_count": 9,
   "metadata": {
    "id": "U8sZll9owqO5"
   },
   "outputs": [
    {
     "data": {
      "text/html": [
       "<div>\n",
       "<style scoped>\n",
       "    .dataframe tbody tr th:only-of-type {\n",
       "        vertical-align: middle;\n",
       "    }\n",
       "\n",
       "    .dataframe tbody tr th {\n",
       "        vertical-align: top;\n",
       "    }\n",
       "\n",
       "    .dataframe thead th {\n",
       "        text-align: right;\n",
       "    }\n",
       "</style>\n",
       "<table border=\"1\" class=\"dataframe\">\n",
       "  <thead>\n",
       "    <tr style=\"text-align: right;\">\n",
       "      <th></th>\n",
       "      <th>Popularity</th>\n",
       "    </tr>\n",
       "  </thead>\n",
       "  <tbody>\n",
       "    <tr>\n",
       "      <th>0</th>\n",
       "      <td>37.454012</td>\n",
       "    </tr>\n",
       "    <tr>\n",
       "      <th>1</th>\n",
       "      <td>95.071431</td>\n",
       "    </tr>\n",
       "    <tr>\n",
       "      <th>2</th>\n",
       "      <td>73.199394</td>\n",
       "    </tr>\n",
       "    <tr>\n",
       "      <th>3</th>\n",
       "      <td>59.865848</td>\n",
       "    </tr>\n",
       "    <tr>\n",
       "      <th>4</th>\n",
       "      <td>15.601864</td>\n",
       "    </tr>\n",
       "  </tbody>\n",
       "</table>\n",
       "</div>"
      ],
      "text/plain": [
       "   Popularity\n",
       "0   37.454012\n",
       "1   95.071431\n",
       "2   73.199394\n",
       "3   59.865848\n",
       "4   15.601864"
      ]
     },
     "execution_count": 9,
     "metadata": {},
     "output_type": "execute_result"
    }
   ],
   "source": [
    "# Guardar predicciones en formato exigido en la competencia de kaggle\n",
    "y_pred.to_csv('test_submission_file.csv', index_label='ID')\n",
    "y_pred.head()"
   ]
  },
  {
   "cell_type": "markdown",
   "metadata": {},
   "source": [
    "## Unión de data sets"
   ]
  },
  {
   "cell_type": "code",
   "execution_count": 16,
   "metadata": {},
   "outputs": [
    {
     "name": "stdout",
     "output_type": "stream",
     "text": [
      "Dimensiones del dataset combinado: (114000, 21)\n",
      "<class 'pandas.core.frame.DataFrame'>\n",
      "RangeIndex: 114000 entries, 0 to 113999\n",
      "Data columns (total 21 columns):\n",
      " #   Column            Non-Null Count   Dtype  \n",
      "---  ------            --------------   -----  \n",
      " 0   Unnamed: 0        79800 non-null   float64\n",
      " 1   track_id          114000 non-null  object \n",
      " 2   artists           113999 non-null  object \n",
      " 3   album_name        113999 non-null  object \n",
      " 4   track_name        113999 non-null  object \n",
      " 5   duration_ms       114000 non-null  int64  \n",
      " 6   explicit          114000 non-null  bool   \n",
      " 7   danceability      114000 non-null  float64\n",
      " 8   energy            114000 non-null  float64\n",
      " 9   key               114000 non-null  int64  \n",
      " 10  loudness          114000 non-null  float64\n",
      " 11  mode              114000 non-null  int64  \n",
      " 12  speechiness       114000 non-null  float64\n",
      " 13  acousticness      114000 non-null  float64\n",
      " 14  instrumentalness  114000 non-null  float64\n",
      " 15  liveness          114000 non-null  float64\n",
      " 16  valence           114000 non-null  float64\n",
      " 17  tempo             114000 non-null  float64\n",
      " 18  time_signature    114000 non-null  int64  \n",
      " 19  track_genre       114000 non-null  object \n",
      " 20  popularity        79800 non-null   float64\n",
      "dtypes: bool(1), float64(11), int64(4), object(5)\n",
      "memory usage: 17.5+ MB\n"
     ]
    }
   ],
   "source": [
    "# Unimos los sets de entrenamiento y prueba para el análisis exploratorio\n",
    "dataTotal = pd.concat([dataTraining, dataTesting], ignore_index=True)\n",
    "\n",
    "# Verificamos que se haya unido correctamente\n",
    "print(f\"Dimensiones del dataset combinado: {dataTotal.shape}\")\n",
    "dataTotal.info()\n"
   ]
  },
  {
   "cell_type": "markdown",
   "metadata": {},
   "source": [
    "## Limpieza de datos"
   ]
  },
  {
   "cell_type": "markdown",
   "metadata": {},
   "source": [
    "### Eliminación de columnas innecesarias "
   ]
  },
  {
   "cell_type": "code",
   "execution_count": 24,
   "metadata": {},
   "outputs": [
    {
     "name": "stdout",
     "output_type": "stream",
     "text": [
      "Columnas eliminadas correctamente.\n",
      "Nuevas dimensiones de dataTotal: (114000, 16)\n"
     ]
    }
   ],
   "source": [
    "# Lista de columnas a eliminar\n",
    "columnas_a_eliminar = ['Unnamed: 0', 'track_id', 'artists', 'album_name', 'track_name']\n",
    "\n",
    "# Eliminar columnas del dataset combinado y los sets originales\n",
    "dataTotal = dataTotal.drop(columns=columnas_a_eliminar, errors='ignore')\n",
    "dataTraining = dataTraining.drop(columns=columnas_a_eliminar, errors='ignore')\n",
    "dataTesting = dataTesting.drop(columns=columnas_a_eliminar, errors='ignore')\n",
    "\n",
    "# Confirmación\n",
    "print(\"Columnas eliminadas correctamente.\")\n",
    "print(\"Nuevas dimensiones de dataTotal:\", dataTotal.shape)\n"
   ]
  },
  {
   "cell_type": "markdown",
   "metadata": {},
   "source": [
    "### Valores faltantes"
   ]
  },
  {
   "cell_type": "code",
   "execution_count": 21,
   "metadata": {},
   "outputs": [
    {
     "name": "stdout",
     "output_type": "stream",
     "text": [
      "Valores faltantes en el dataset:\n",
      "            Missing Values  Percentage (%)\n",
      "Unnamed: 0           34200       30.000000\n",
      "popularity           34200       30.000000\n",
      "artists                  1        0.000877\n",
      "track_name               1        0.000877\n",
      "album_name               1        0.000877\n"
     ]
    }
   ],
   "source": [
    "# Contar valores nulos por columna\n",
    "missing_values = dataTotal.isnull().sum()\n",
    "\n",
    "# Calcular el porcentaje de valores nulos\n",
    "missing_percent = (missing_values / len(dataTotal)) * 100\n",
    "\n",
    "# Combinar en un dataframe para una mejor visualización\n",
    "missing_data = pd.DataFrame({\n",
    "    'Missing Values': missing_values,\n",
    "    'Percentage (%)': missing_percent\n",
    "}).sort_values(by='Missing Values', ascending=False)\n",
    "\n",
    "# Mostrar sólo las columnas que tienen valores faltantes\n",
    "missing_data = missing_data[missing_data['Missing Values'] > 0]\n",
    "\n",
    "print(\"Valores faltantes en el dataset:\")\n",
    "print(missing_data)\n"
   ]
  },
  {
   "cell_type": "code",
   "execution_count": null,
   "metadata": {},
   "outputs": [],
   "source": []
  }
 ],
 "metadata": {
  "colab": {
   "provenance": []
  },
  "kernelspec": {
   "display_name": "Python [conda env:base] *",
   "language": "python",
   "name": "conda-base-py"
  },
  "language_info": {
   "codemirror_mode": {
    "name": "ipython",
    "version": 3
   },
   "file_extension": ".py",
   "mimetype": "text/x-python",
   "name": "python",
   "nbconvert_exporter": "python",
   "pygments_lexer": "ipython3",
   "version": "3.12.2"
  }
 },
 "nbformat": 4,
 "nbformat_minor": 4
}
